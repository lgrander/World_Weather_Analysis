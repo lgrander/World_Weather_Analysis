{
 "cells": [
  {
   "cell_type": "code",
   "execution_count": 1,
   "id": "80787649",
   "metadata": {},
   "outputs": [],
   "source": [
    "# Import the random module.\n",
    "import random"
   ]
  },
  {
   "cell_type": "code",
   "execution_count": null,
   "id": "9aebfa13",
   "metadata": {},
   "outputs": [],
   "source": [
    "random.random"
   ]
  },
  {
   "cell_type": "code",
   "execution_count": 4,
   "id": "cabdff63",
   "metadata": {},
   "outputs": [
    {
     "data": {
      "text/plain": [
       "75"
      ]
     },
     "execution_count": 4,
     "metadata": {},
     "output_type": "execute_result"
    }
   ],
   "source": [
    "random.randint(-90, 90)"
   ]
  },
  {
   "cell_type": "code",
   "execution_count": 7,
   "id": "d4265d32",
   "metadata": {},
   "outputs": [
    {
     "data": {
      "text/plain": [
       "[-63.398336321445356,\n",
       " -63.5381196969397,\n",
       " -9.508060350785616,\n",
       " -7.163355127969283,\n",
       " -35.355975860851004,\n",
       " 19.72211270431584,\n",
       " 88.54508489815711,\n",
       " -78.10012549915382,\n",
       " 6.5093002703193195,\n",
       " 48.71883542614409]"
      ]
     },
     "execution_count": 7,
     "metadata": {},
     "output_type": "execute_result"
    }
   ],
   "source": [
    "x = 1\n",
    "latitudes = []\n",
    "while x < 11:\n",
    "    random_lat = random.randint(-90, 89) + random.random()\n",
    "    latitudes.append(random_lat)\n",
    "    x += 1\n",
    "   \n",
    "latitudes\n"
   ]
  },
  {
   "cell_type": "code",
   "execution_count": 8,
   "id": "49ab3b6e",
   "metadata": {},
   "outputs": [],
   "source": [
    "# Import the NumPy module.\n",
    "import numpy as np"
   ]
  },
  {
   "cell_type": "code",
   "execution_count": 9,
   "id": "507e6ce1",
   "metadata": {},
   "outputs": [
    {
     "data": {
      "text/plain": [
       "array([-72.50294973,  65.02140939, -45.09965285, -23.07446306,\n",
       "       -12.4810774 ,  86.22534715,  68.767389  , -48.99281363,\n",
       "        57.38008179, -74.31334833,  -5.71758575, -63.84228619,\n",
       "        13.2867583 , -65.75261127,  44.61467568, -89.38751167,\n",
       "       -18.46050462,  40.97053151,  24.52992249, -33.28994671,\n",
       "         5.52280657,  16.05920732,  26.0758202 , -11.16603892,\n",
       "       -18.16818329,  32.37482805,  36.88753089, -70.09001456,\n",
       "       -58.06206941,  43.5962612 ,  88.8122009 , -85.69521795,\n",
       "       -60.89842722, -52.39173095,  82.61037148, -11.73482241,\n",
       "       -77.05305076,  85.65693172,   3.62461988,  75.14187061,\n",
       "       -32.30291503,  29.70755498,  27.65101549, -69.8039652 ,\n",
       "       -24.00508592, -85.651232  ,  45.28341575,  73.59163771,\n",
       "       -75.12742579,  73.92504986])"
      ]
     },
     "execution_count": 9,
     "metadata": {},
     "output_type": "execute_result"
    }
   ],
   "source": [
    "np.random.uniform(-90.000, 90.000, size=50)"
   ]
  },
  {
   "cell_type": "code",
   "execution_count": 10,
   "id": "3d4d58bb",
   "metadata": {},
   "outputs": [],
   "source": [
    "# Import timeit.\n",
    "import timeit"
   ]
  },
  {
   "cell_type": "code",
   "execution_count": 13,
   "id": "ffd3fc21",
   "metadata": {},
   "outputs": [
    {
     "name": "stdout",
     "output_type": "stream",
     "text": [
      "12.1 µs ± 263 ns per loop (mean ± std. dev. of 7 runs, 100000 loops each)\n"
     ]
    }
   ],
   "source": [
    "%timeit np.random.uniform(-90.000, 90.000, size=1500)"
   ]
  },
  {
   "cell_type": "code",
   "execution_count": null,
   "id": "db7e4baa",
   "metadata": {},
   "outputs": [],
   "source": []
  },
  {
   "cell_type": "code",
   "execution_count": null,
   "id": "83e385e1",
   "metadata": {},
   "outputs": [],
   "source": []
  }
 ],
 "metadata": {
  "kernelspec": {
   "display_name": "PythonData",
   "language": "python",
   "name": "pythondata"
  },
  "language_info": {
   "codemirror_mode": {
    "name": "ipython",
    "version": 3
   },
   "file_extension": ".py",
   "mimetype": "text/x-python",
   "name": "python",
   "nbconvert_exporter": "python",
   "pygments_lexer": "ipython3",
   "version": "3.7.11"
  }
 },
 "nbformat": 4,
 "nbformat_minor": 5
}
